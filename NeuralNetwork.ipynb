{
 "cells": [
  {
   "cell_type": "markdown",
   "id": "8fbcb9bd",
   "metadata": {},
   "source": [
    "This Projects holds the implementation of a simple neural networks of arbitrary size and backpropagation"
   ]
  },
  {
   "cell_type": "code",
   "execution_count": 2,
   "id": "8f20a504",
   "metadata": {},
   "outputs": [],
   "source": [
    "import numpy as np\n",
    "import matplotlib.pyplot as plt"
   ]
  },
  {
   "cell_type": "code",
   "execution_count": 3,
   "id": "e9933f09",
   "metadata": {},
   "outputs": [],
   "source": [
    "def propagate_simple(x, w):\n",
    "    return np.dot(x,w)"
   ]
  },
  {
   "cell_type": "markdown",
   "id": "e4d8c7bc",
   "metadata": {},
   "source": [
    "Implementation of one layer"
   ]
  },
  {
   "cell_type": "code",
   "execution_count": 4,
   "id": "f85728d1",
   "metadata": {},
   "outputs": [],
   "source": [
    "class Perceptrons:\n",
    "    def __init__(self, n_input, n_output):\n",
    "        self.w = np.random.rand(n_output,n_input)\n",
    "        self._activate = lambda x: 1/(1+np.exp(-x))\n",
    "        self.lr = 0.01\n",
    "        self._d_activate = lambda x: self._activate(x) * (1 - self._activate(x))\n",
    "        self.b = np.array(np.random.rand(n_output))\n",
    "\n",
    "    def propagate(self, x):\n",
    "        return self._activate(np.dot(self.w, x) + self.b)\n",
    "    \n",
    "    def backpropagate(self, x, y):\n",
    "        delta = np.array(self.propagate(x) - y)\n",
    "        a_sig = self.propagate(x)\n",
    "        self.w = np.subtract( self.w, np.dot(np.diag(a_sig), np.dot(delta.reshape(-1,1), x.reshape(1,-1))) * self.lr )\n",
    "        self.b = np.subtract( self.b, np.dot(np.diag(a_sig),delta))\n"
   ]
  },
  {
   "cell_type": "code",
   "execution_count": 5,
   "id": "2d181217",
   "metadata": {},
   "outputs": [
    {
     "data": {
      "text/plain": [
       "[<matplotlib.lines.Line2D at 0x25e18b139d0>]"
      ]
     },
     "execution_count": 5,
     "metadata": {},
     "output_type": "execute_result"
    },
    {
     "data": {
      "image/png": "[encoded data removed]",
      "text/plain": [
       "<Figure size 640x480 with 1 Axes>"
      ]
     },
     "metadata": {},
     "output_type": "display_data"
    }
   ],
   "source": [
    "error = []\n",
    "epoch = 20\n",
    "iter = 1000\n",
    "s = Perceptrons(3,2)\n",
    "test = Perceptrons(3,2)\n",
    "for i in range(epoch):\n",
    "    errorSum = 0.0\n",
    "    for c in range(iter):\n",
    "        x = np.random.rand(3) * 2 - 1\n",
    "        errorSum += np.sum(np.square(np.subtract(test.propagate(x), s.propagate(x))))\n",
    "        s.backpropagate(x, test.propagate(x))\n",
    "    error.append(errorSum / float(iter))\n",
    "\n",
    "import matplotlib.pyplot as plt \n",
    "plt.plot(error)"
   ]
  },
  {
   "cell_type": "markdown",
   "id": "226ebddc",
   "metadata": {},
   "source": [
    "Implementation of a Neural Network"
   ]
  },
  {
   "cell_type": "code",
   "execution_count": 6,
   "id": "f43fc7c2",
   "metadata": {},
   "outputs": [],
   "source": [
    "import numpy as np\n",
    "import matplotlib.pyplot as plt"
   ]
  },
  {
   "cell_type": "code",
   "execution_count": 7,
   "id": "785dbdac",
   "metadata": {},
   "outputs": [],
   "source": [
    "# implement this: https://www.notion.so/Backpropalgo-2083c2ca30a180539ef5e7a3cf1220d8\n",
    "activationfunctions = {\n",
    "    \"sigmoid\": lambda x: 1/(1+np.exp(-x)),\n",
    "    \"relu\": lambda x: np.maximum(0, x),\n",
    "}\n",
    "\n",
    "d_activationfunctions = {\n",
    "    \"sigmoid\": lambda x: activationfunctions[\"sigmoid\"](x) * (1 - activationfunctions[\"sigmoid\"](x)),\n",
    "    \"relu\": lambda x: np.where(x > 0, 1, 0),\n",
    "}\n",
    "\n",
    "class Layer:\n",
    "    def __init__(self, n_input, n_output, lr, activation='sigmoid'):\n",
    "        self.w = np.random.rand(n_output, n_input)\n",
    "        self._activate = activationfunctions[activation]\n",
    "        assert activation in activationfunctions, \"Activation function not supported\"\n",
    "        self.lr = lr\n",
    "        self._d_activate = d_activationfunctions[activation]\n",
    "        assert activation in d_activationfunctions, \"Derivative of activation function not supported\"\n",
    "        self.b = np.array(np.random.rand(n_output)).reshape(n_output, 1) # Bias vector reshaped to column vector\n",
    "        self.x = np.zeros((n_input, 1)) # Input vector\n",
    "        self.z = np.zeros((n_input, 1)) # Linear combination of inputs and weights\n",
    "        self.a = np.zeros((n_input, 1)) # Output vector after activation\n",
    "\n",
    "    def propagate(self, x):\n",
    "        assert np.shape(x)[0] == self.w.shape[1], \"Input shape does not match weight matrix\"\n",
    "        assert np.shape(self.w)[0] == self.b.shape[0], \"Weight matrix and bias vector must have the same output dimension\"\n",
    "        \n",
    "        self.x = x\n",
    "        self.z = np.dot(self.w, x) + self.b         \n",
    "        self.a = self._activate(self.z)\n",
    "        return self.a\n",
    "    \n",
    "    def backpropagate(self, delta):\n",
    "        # dw = delta * da_i/dz_i * dz_i/dw\n",
    "        # dw b= delta * da_i/dz_i * dz_i/db\n",
    "\n",
    "        da_dz = self._d_activate(self.z)\n",
    "        dz_dw = self.x.T\n",
    "        delta_dz = np.multiply(delta, da_dz)\n",
    "\n",
    "        dw = np.dot(delta_dz, dz_dw)\n",
    "        db = delta_dz # * dz_db = 1 \n",
    "        self.w = np.subtract(self.w, dw * self.lr)\n",
    "        self.b = np.subtract(self.b, db * self.lr)\n",
    "\n",
    "    \t# delta * da_i/dz_i * dz_i/da_i-1\n",
    "        # delta * da_i/dz_i = delta_dz\n",
    "        # dz_i/da_i-1 = self.w.T\n",
    "\n",
    "        return np.dot(self.w.T, delta_dz)\n"
   ]
  },
  {
   "cell_type": "code",
   "execution_count": 8,
   "id": "e704453e",
   "metadata": {},
   "outputs": [],
   "source": [
    "class NeuralNetwork:\n",
    "    def __init__(self, layers):\n",
    "        self.layers = layers\n",
    "\n",
    "    def propagate(self, x):\n",
    "        for layer in self.layers:\n",
    "            x = layer.propagate(x)\n",
    "        return x\n",
    "\n",
    "    def backpropagate(self, y):\n",
    "        delta = y\n",
    "        for layer in reversed(self.layers):\n",
    "            delta = layer.backpropagate(delta)"
   ]
  },
  {
   "cell_type": "code",
   "execution_count": 9,
   "id": "23a91c86",
   "metadata": {},
   "outputs": [],
   "source": [
    "class LayerFactory:\n",
    "    def __init__(self, lr=0.01):\n",
    "        self.lr = lr\n",
    "        self.layers = []\n",
    "\n",
    "    def add_layer(self, n_input, n_output, actiation='sigmoid'):\n",
    "        layer = Layer(n_input, n_output, self.lr, activation=actiation)\n",
    "        self.layers.append(layer)\n",
    "    \n",
    "    def buildLayers(self):\n",
    "        layers = self.layers\n",
    "        self.layers = []\n",
    "        return layers"
   ]
  },
  {
   "cell_type": "code",
   "execution_count": 10,
   "id": "6ffc5696",
   "metadata": {},
   "outputs": [],
   "source": [
    "def derror(y_true, y_pred):\n",
    "    return np.subtract(y_pred, y_true) * 2 \n",
    "\n",
    "def error(y_true, y_pred):\n",
    "    return np.sum(np.square(derror(y_pred, y_true)))"
   ]
  },
  {
   "cell_type": "markdown",
   "id": "927d5c2f",
   "metadata": {},
   "source": [
    "Testing: neural network \"learns\" the output of a randomly initialized network "
   ]
  },
  {
   "cell_type": "code",
   "execution_count": null,
   "id": "6b5924fb",
   "metadata": {},
   "outputs": [
    {
     "name": "stdout",
     "output_type": "stream",
     "text": [
      "Epoch 0, Error: 0.0017380678576433008\n",
      "Epoch 1, Error: 0.0008211667522641472\n",
      "Epoch 2, Error: 0.0007502559792819731\n",
      "Epoch 3, Error: 0.0006866286653218254\n",
      "Epoch 4, Error: 0.0006982459149060219\n",
      "Epoch 5, Error: 0.0007375554060014793\n",
      "Epoch 6, Error: 0.0006861935103708928\n",
      "Epoch 7, Error: 0.0006936659616368616\n",
      "Epoch 8, Error: 0.0006367137124772519\n",
      "Epoch 9, Error: 0.0006304942247350861\n"
     ]
    },
    {
     "data": {
      "text/plain": [
       "[<matplotlib.lines.Line2D at 0x25e1bc9a350>]"
      ]
     },
     "execution_count": 16,
     "metadata": {},
     "output_type": "execute_result"
    },
    {
     "data": {
      "image/png": "[encoded data removed]",
      "text/plain": [
       "<Figure size 640x480 with 1 Axes>"
      ]
     },
     "metadata": {},
     "output_type": "display_data"
    }
   ],
   "source": [
    "layerfac = LayerFactory(lr=0.01)\n",
    "layerfac.add_layer(2, 3, 'sigmoid')\n",
    "layerfac.add_layer(3, 1, 'sigmoid')\n",
    "teacher = NeuralNetwork(layerfac.buildLayers())\n",
    "layerfac.add_layer(2, 3, 'sigmoid')\n",
    "layerfac.add_layer(3, 1, 'sigmoid')\n",
    "student = NeuralNetwork(layerfac.buildLayers())\n",
    "\n",
    "error_record = []\n",
    "\n",
    "epoch = 10\n",
    "iter = 1000\n",
    "\n",
    "for i in range(epoch):\n",
    "    errorSum = 0.0\n",
    "    for c in range(iter):\n",
    "        x = np.random.rand(2).reshape(2, 1) * 2 - 1\n",
    "        y = teacher.propagate(x)\n",
    "        errorSum += error(y, student.propagate(x))\n",
    "        student.backpropagate(derror(y, student.propagate(x)))\n",
    "    error_record.append(errorSum / float(iter))\n",
    "    print(f\"Epoch {i}, Error: {errorSum / float(iter)}\")\n",
    "\n",
    "plt.plot(error_record)"
   ]
  },
  {
   "cell_type": "code",
   "execution_count": null,
   "id": "5ab72318",
   "metadata": {},
   "outputs": [],
   "source": []
  }
 ],
 "metadata": {
  "kernelspec": {
   "display_name": "Python 3",
   "language": "python",
   "name": "python3"
  },
  "language_info": {
   "codemirror_mode": {
    "name": "ipython",
    "version": 3
   },
   "file_extension": ".py",
   "mimetype": "text/x-python",
   "name": "python",
   "nbconvert_exporter": "python",
   "pygments_lexer": "ipython3",
   "version": "3.13.3"
  }
 },
 "nbformat": 4,
 "nbformat_minor": 5
}
